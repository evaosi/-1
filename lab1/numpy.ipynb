{
  "cells": [
    {
      "cell_type": "markdown",
      "metadata": {
        "id": "vC84e9kzyxPy"
      },
      "source": [
        "<h1>Импорт библиотек"
      ]
    },
    {
      "cell_type": "code",
      "execution_count": 3,
      "metadata": {
        "id": "cgKeNegmQG5S"
      },
      "outputs": [],
      "source": [
        "import numpy as np\n",
        "import matplotlib.pyplot as plt"
      ]
    },
    {
      "cell_type": "markdown",
      "metadata": {
        "id": "qFM9uVU2x4Ls"
      },
      "source": [
        "<h1>Задача 1. Дан набор из $p$ матриц размерностью $(n, n)$ и $p$ векторов размерностью $(n, 1)$, найти сумму произведений матриц на векторы. Написать тесты для кода"
      ]
    },
    {
      "cell_type": "code",
      "execution_count": null,
      "metadata": {
        "id": "IAbUvEiYyWFF"
      },
      "outputs": [],
      "source": [
        "import numpy as np\n",
        "\n",
        "def sum_matrix_vector_products(matrices, vectors):\n",
        "    result = np.zeros((matrices[0].shape[0], 1))\n",
        "    \n",
        "    for i in range(len(matrices)):\n",
        "        result += matrices[i].dot(vectors[i])\n",
        "    \n",
        "    return result\n",
        "\n",
        "# Тесты\n",
        "def test_sum_matrix_vector_products():\n",
        "    matrix1 = np.array([[1, 0], [0, 1]])\n",
        "    matrix2 = np.array([[1, 2], [3, 4]])\n",
        "    vector1 = np.array([[1], [2]])\n",
        "    vector2 = np.array([[3], [4]])\n",
        "    \n",
        "    matrices = [matrix1, matrix2]\n",
        "    vectors = [vector1, vector2]\n",
        "    \n",
        "    expected_result = np.array([[7], [10]])\n",
        "    \n",
        "    assert np.array_equal(sum_matrix_vector_products(matrices, vectors), expected_result)\n",
        "\n",
        "test_sum_matrix_vector_products()\n"
      ]
    },
    {
      "cell_type": "markdown",
      "metadata": {
        "id": "TKwPG4fIy2w4"
      },
      "source": [
        "<h1>Задача 2. Дана матрица M, напишите функцию, которая бинаризует матрицу по некоторому threshold (то есть, все значения большие threshold становятся равными 1, иначе 0). Напишите тесты для кода"
      ]
    },
    {
      "cell_type": "code",
      "execution_count": null,
      "metadata": {
        "id": "KQDNMgsjRNH7"
      },
      "outputs": [],
      "source": [
        "import numpy as np\n",
        "\n",
        "def binarize_matrix(matrix, threshold):\n",
        "    binary_matrix = np.where(matrix > threshold, 1, 0)\n",
        "    return binary_matrix\n",
        "\n",
        "# Тесты\n",
        "def test_binarize_matrix():\n",
        "    matrix = np.array([[1, 2, 3], [4, 5, 6]])\n",
        "    threshold = 3\n",
        "    \n",
        "    expected_result = np.array([[0, 0, 1], [1, 1, 1]])\n",
        "    \n",
        "    assert np.array_equal(binarize_matrix(matrix, threshold), expected_result)\n",
        "\n",
        "test_binarize_matrix()\n"
      ]
    },
    {
      "cell_type": "markdown",
      "metadata": {
        "id": "IY5L-h-7zWhN"
      },
      "source": [
        "<h1>Задача 3. Напишите функцию, которая возвращает уникальные элементы из каждой строки матрицы. Напишите такую же функцию, но для столбцов. Напишите тесты для кода"
      ]
    },
    {
      "cell_type": "code",
      "execution_count": null,
      "metadata": {
        "id": "-8dEZhR0SBC-"
      },
      "outputs": [],
      "source": [
        "import numpy as np\n",
        "\n",
        "def unique_elements_rows(matrix):\n",
        "    unique_rows = [np.unique(row) for row in matrix]\n",
        "    return unique_rows\n",
        "\n",
        "def unique_elements_columns(matrix):\n",
        "    unique_columns = [np.unique(column) for column in matrix.T]\n",
        "    return unique_columns\n",
        "\n",
        "# Тесты\n",
        "def test_unique_elements_rows_and_columns():\n",
        "    matrix = np.array([[1, 2, 3],\n",
        "                        [2, 3, 3],\n",
        "                        [4, 4, 4]])\n",
        "    \n",
        "    expected_unique_rows = [np.array([1, 2, 3]), np.array([2, 3]), np.array([4])]\n",
        "    expected_unique_columns = [np.array([1, 2, 4]), np.array([2, 3]), np.array([3, 4])]\n",
        "    \n",
        "    assert all([np.array_equal(unique_rows, expected_unique_rows) for unique_rows in unique_elements_rows(matrix)])\n",
        "    assert all([np.array_equal(unique_columns, expected_unique_columns) for unique_columns in unique_elements_columns(matrix)])\n",
        "    \n",
        "test_unique_elements_rows_and_columns()\n"
      ]
    },
    {
      "cell_type": "markdown",
      "metadata": {
        "id": "roYAlo4Jz-lH"
      },
      "source": [
        "<h1>Задача 4. Напишите функцию, которая заполняет матрицу с размерами $(m, n)$ случайными числами, распределенными по нормальному закону. Затем считает мат. ожидание и дисперсию для каждого из столбцов и строк, а также строит для каждой строки и столбца гистограмму значений (использовать функцию hist из модуля matplotlib.plot)"
      ]
    },
    {
      "cell_type": "code",
      "execution_count": null,
      "metadata": {
        "id": "nZK_71hMSQzv"
      },
      "outputs": [],
      "source": [
        "# Your code goes here\n",
        "import numpy as np\n",
        "import matplotlib.pyplot as plt\n",
        "\n",
        "def fill_matrix_normal(m, n):\n",
        "    matrix = np.random.randn(m, n)\n",
        "    return matrix\n",
        "\n",
        "def calculate_mean_and_variance(matrix):\n",
        "    row_means = np.mean(matrix, axis=1)\n",
        "    column_means = np.mean(matrix, axis=0)\n",
        "    \n",
        "    row_variances = np.var(matrix, axis=1)\n",
        "    column_variances = np.var(matrix, axis=0)\n",
        "    \n",
        "    return row_means, column_means, row_variances, column_variances\n",
        "\n",
        "def plot_histograms(matrix):\n",
        "    for i in range(matrix.shape[0]):\n",
        "        plt.hist(matrix[i], bins=20)\n",
        "        plt.title(f\"Histogram for Row {i}\")\n",
        "        plt.show()\n",
        "    \n",
        "    for i in range(matrix.shape[1]):\n",
        "        plt.hist(matrix[:,i], bins=20)\n",
        "        plt.title(f\"Histogram for Column {i}\")\n",
        "        plt.show()\n",
        "\n",
        "# Пример использования\n",
        "m, n = 5, 4\n",
        "matrix = fill_matrix_normal(m, n)\n",
        "row_means, column_means, row_variances, column_variances = calculate_mean_and_variance(matrix)\n",
        "\n",
        "plot_histograms(matrix)\n"
      ]
    },
    {
      "cell_type": "markdown",
      "metadata": {
        "id": "BDyATNdM0dJ2"
      },
      "source": [
        "<h1>Задача 5. Напишите функцию, которая заполняет матрицу $(m, n)$ в шахматном порядке заданными числами $a$ и $b$. Напишите тесты для кода"
      ]
    },
    {
      "cell_type": "code",
      "execution_count": null,
      "metadata": {
        "id": "RWNJYWQGecS6"
      },
      "outputs": [],
      "source": [
        "import numpy as np\n",
        "\n",
        "def fill_matrix_chessboard(m, n, a, b):\n",
        "    matrix = np.zeros((m, n))\n",
        "    for i in range(m):\n",
        "        for j in range(n):\n",
        "            if (i+j) % 2 == 0:\n",
        "                matrix[i, j] = a\n",
        "            else:\n",
        "                matrix[i, j] = b\n",
        "    return matrix\n",
        "\n",
        "# Тесты\n",
        "def test_fill_matrix_chessboard():\n",
        "    m, n = 3, 3\n",
        "    a, b = 1, 2\n",
        "    \n",
        "    expected_result = np.array([[1, 2, 1],\n",
        "                                [2, 1, 2],\n",
        "                                [1, 2, 1]])\n",
        "    \n",
        "    assert np.array_equal(fill_matrix_chessboard(m, n, a, b), expected_result)\n",
        "\n",
        "test_fill_matrix_chessboard()\n"
      ]
    },
    {
      "cell_type": "markdown",
      "metadata": {
        "id": "-ymXLtTN0vB6"
      },
      "source": [
        "<h1>Задача 6. Напишите функцию, которая отрисовывает прямоугольник с заданными размерами (a, b) на изображении размера (m, n), цвет фона задайте в схеме RGB, как и цвет прямоугольника. Цвета также должны быть параметрами функции. Напишите аналогичную функцию но для овала с полуосями a и b. Напишите тесты для кода.\n",
        "Примечание: уравнение эллипса (границы овала) можно записать как:\n",
        "<h1>$\\frac{(x-x_0)^2}{a^2}+\\frac{(y-y_0)^2}{b^2}=1$"
      ]
    },
    {
      "cell_type": "code",
      "execution_count": 1,
      "metadata": {
        "id": "sNfl1t_kfOF4"
      },
      "outputs": [],
      "source": [
        "import numpy as np\n",
        "import matplotlib.pyplot as plt\n",
        "\n",
        "def draw_rectangle(image, m, n, a, b, rgb_background, rgb_rectangle):\n",
        "    rectangle = np.zeros((m, n, 3))\n",
        "    rectangle[:, :] = rgb_background\n",
        "    rectangle[:a, :b] = rgb_rectangle\n",
        "    \n",
        "    plt.imshow(image + rectangle)\n",
        "    plt.axis('off')\n",
        "    plt.show()\n",
        "\n",
        "def draw_oval(image, m, n, a, b, rgb_background, rgb_oval):\n",
        "    x, y = np.meshgrid(np.arange(n), np.arange(m))\n",
        "    ellipse = (((x - n//2) / a) ** 2 + ((y - m//2) / b) ** 2) <= 1\n",
        "    oval = np.zeros((m, n, 3))\n",
        "    oval[:, :] = rgb_background\n",
        "    oval[ellipse] = rgb_oval\n",
        "    \n",
        "    plt.imshow(image + oval)\n",
        "    plt.axis('off')\n",
        "    plt.show()\n",
        "\n",
        "# Тесты\n",
        "def test_draw_rectangle():\n",
        "    m, n = 10, 10\n",
        "    a, b = 3, 5\n",
        "    rgb_bkg = (255, 255, 255)\n",
        "    rgb_rect = (0, 0, 255)\n",
        "    \n",
        "    image = np.zeros((m, n, 3))\n",
        "    draw_rectangle(image, m, n, a, b, rgb_bkg, rgb_rect)\n",
        "\n",
        "def test_draw_oval():\n",
        "    m, n = 10, 10\n",
        "    a, b = 4, 2\n",
        "    rgb_bkg = (255, 255, 255)\n",
        "    rgb_oval = (255, 0, 0)\n",
        "    \n",
        "    image = np.zeros((m, n, 3))\n",
        "    draw_oval(image, m, n, a, b, rgb_bkg, rgb_oval)\n",
        "\n",
        "test_draw_rectangle()\n",
        "test_draw_oval()\n"
      ]
    },
    {
      "cell_type": "markdown",
      "metadata": {
        "id": "S82c38oz244H"
      },
      "source": [
        "<h1>Задача 7. Дан некий временной ряд. Для данного ряда нужно найти его: математическое ожидание, дисперсию, СКО, найти все локальные максимумы и минимумы (локальный максимум - это точка, которая больше своих соседних точек, а локальный минимум - это точка, которая меньше своих соседей), а также вычислить для данного ряда другой ряд, получаемый методом скользящего среднего с размером окна $p$.\n",
        "<h1>Примечание: метод скользящего среднего подразумевает нахождение среднего из подмножетсва ряда размером $p$"
      ]
    },
    {
      "cell_type": "code",
      "execution_count": null,
      "metadata": {
        "id": "Zb9mIVge5MMt"
      },
      "outputs": [],
      "source": [
        "# Your code goes here\n",
        "import numpy as np\n",
        "\n",
        "def time_series_analysis(series, p):\n",
        "    # Найти математическое ожидание\n",
        "    mean = np.mean(series)\n",
        "    \n",
        "    # Найти дисперсию\n",
        "    variance = np.var(series)\n",
        "    \n",
        "    # Найти СКО\n",
        "    std_deviation = np.std(series)\n",
        "    \n",
        "    # Найти локальные максимумы и минимумы\n",
        "    local_max = []\n",
        "    local_min = []\n",
        "    \n",
        "    for i in range(1, len(series) - 1):\n",
        "        if series[i] > series[i-1] and series[i] > series[i+1]:\n",
        "            local_max.append((i, series[i]))\n",
        "        elif series[i] < series[i-1] and series[i] < series[i+1]:\n",
        "            local_min.append((i, series[i]))\n",
        "    \n",
        "    # Найти скользящее среднее\n",
        "    rolling_mean = np.convolve(series, np.ones(p), mode='valid') / p\n",
        "    \n",
        "    return mean, variance, std_deviation, local_max, local_min, rolling_mean\n",
        "\n",
        "# Пример ряда\n",
        "series = np.array([1, 2, 3, 2, 1, 2, 3, 4, 5, 4, 3, 2, 3, 4])\n",
        "p = 3\n",
        "\n",
        "mean, variance, std_deviation, local_max, local_min, rolling_mean = time_series_analysis(series, p)\n",
        "print(\"Математическое ожидание:\", mean)\n",
        "print(\"Дисперсия:\", variance)\n",
        "print(\"СКО:\", std_deviation)\n",
        "print(\"Локальные максимумы:\", local_max)\n",
        "print(\"Локальные минимумы:\", local_min)\n",
        "print(\"Скользящее среднее:\", rolling_mean)\n"
      ]
    },
    {
      "cell_type": "markdown",
      "metadata": {
        "id": "jPkylmOX5O9n"
      },
      "source": [
        "<h1> Задача 8. Дан некоторый вектор с целочисленными метками классов, напишите функцию, которая выполняет one-hot-encoding для данного вектора\n",
        "<h1> One-hot-encoding - представление, в котором на месте метки некоторого класса стоит 1, в остальных позициях стоит 0. Например для вектора [0, 2, 3, 0] one-hot-encoding выглядит как: [[1, 0, 0, 0], [0, 0, 1, 0], [0, 0, 0, 1], [1, 0, 0, 0]]"
      ]
    },
    {
      "cell_type": "code",
      "execution_count": null,
      "metadata": {
        "id": "Y-jlnZvw56lD"
      },
      "outputs": [],
      "source": [
        "# Your code goes here\n",
        "from sklearn.preprocessing import OneHotEncoder\n",
        "import numpy as np\n",
        "\n",
        "def one_hot_encoding(vector):\n",
        "    # Преобразование вектора в двумерный массив\n",
        "    vector = np.array(vector).reshape(-1, 1)\n",
        "    \n",
        "    # Создание объекта OneHotEncoder\n",
        "    encoder = OneHotEncoder(sparse=False)\n",
        "    \n",
        "    # Применение one-hot-encoding\n",
        "    encoded_vector = encoder.fit_transform(vector)\n",
        "    \n",
        "    return encoded_vector\n",
        "\n",
        "# Пример вектора\n",
        "vector = [0, 2, 3, 0]\n",
        "encoded_vector = one_hot_encoding(vector)\n",
        "print(encoded_vector)\n"
      ]
    }
  ],
  "metadata": {
    "colab": {
      "provenance": []
    },
    "kernelspec": {
      "display_name": "Python 3",
      "name": "python3"
    },
    "language_info": {
      "name": "python"
    }
  },
  "nbformat": 4,
  "nbformat_minor": 0
}
