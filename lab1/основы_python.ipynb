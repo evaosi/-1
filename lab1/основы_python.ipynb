{
  "cells": [
    {
      "cell_type": "markdown",
      "metadata": {
        "id": "M-DGa20PaHnu"
      },
      "source": [
        "#Задача 1\n",
        "Написать функцию на вход которой подается строка, состоящая из латинских букв.\n",
        "Функция должна вернуть количество гласных букв (a, e, i, o, u) в этой строке. Написать тесты для кода"
      ]
    },
    {
      "cell_type": "code",
      "execution_count": null,
      "metadata": {
        "id": "XvX8X_JJ6PCb"
      },
      "outputs": [],
      "source": [
        "# Your code goes here\n",
        "def count_vowels(s):\n",
        "    vowels = ['a', 'e', 'i', 'o', 'u']\n",
        "    count = 0\n",
        "    for char in s:\n",
        "        if char.lower() in vowels:\n",
        "            count += 1\n",
        "    return count\n",
        "\n",
        "# Тесты\n",
        "def test_count_vowels():\n",
        "    assert count_vowels(\"hello\") == 2\n",
        "    assert count_vowels(\"world\") == 1\n",
        "    assert count_vowels(\"python\") == 1\n",
        "    assert count_vowels(\"aeiou\") == 5\n",
        "    assert count_vowels(\"\") == 0\n",
        "    assert count_vowels(\"bcdfghjkl\") == 0\n",
        "\n",
        "test_count_vowels()\n"
      ]
    },
    {
      "cell_type": "markdown",
      "metadata": {
        "id": "t2ClV_Y0bbr6"
      },
      "source": [
        "# Задача 2\n",
        "Написать функцию на вход, которой подается строка. Функция должна вернуть true, если\n",
        "каждый символ в строке встречается только 1 раз, иначе должна вернуть false. Написать тесты для кода"
      ]
    },
    {
      "cell_type": "code",
      "execution_count": null,
      "metadata": {
        "id": "FppbECao6VIz"
      },
      "outputs": [],
      "source": [
        "# Your code goes here\n",
        "def is_unique(s):\n",
        "    char_count = {}\n",
        "    for char in s:\n",
        "        if char in char_count:\n",
        "            return False\n",
        "        char_count[char] = 1\n",
        "    return True\n",
        "\n",
        "# Тесты\n",
        "def test_is_unique():\n",
        "    assert is_unique(\"abcde\") == True\n",
        "    assert is_unique(\"hello\") == False\n",
        "    assert is_unique(\"world\") == True\n",
        "    assert is_unique(\"python\") == True\n",
        "    assert is_unique(\"\") == True\n",
        "\n",
        "test_is_unique()\n"
      ]
    },
    {
      "cell_type": "markdown",
      "metadata": {
        "id": "udRiIK1cdt6E"
      },
      "source": [
        "# Задача 3\n",
        "Написать функцию, которая принимает положительное число и возвращает количество\n",
        "бит равных 1 в этом числе. Написать тесты для кода"
      ]
    },
    {
      "cell_type": "code",
      "execution_count": null,
      "metadata": {
        "id": "6tkfDJRz6dp_"
      },
      "outputs": [],
      "source": [
        "# Your code goes here\n",
        "def count_bits_one(num):\n",
        "    count = 0\n",
        "    while num:\n",
        "        count += num & 1\n",
        "        num >>= 1\n",
        "    return count\n",
        "\n",
        "# Тесты\n",
        "def test_count_bits_one():\n",
        "    assert count_bits_one(5) == 2\n",
        "    assert count_bits_one(10) == 2\n",
        "    assert count_bits_one(7) == 3\n",
        "    assert count_bits_one(15) == 4\n",
        "    assert count_bits_one(0) == 0\n",
        "    assert count_bits_one(1) == 1\n",
        "\n",
        "test_count_bits_one()\n"
      ]
    },
    {
      "cell_type": "markdown",
      "metadata": {
        "id": "26dDUz-Ae17N"
      },
      "source": [
        "# Задача 4\n",
        "Написать функцию, которая принимает положительное число. Функция должна вернуть то,\n",
        "сколько раз необходимо перемножать цифры числа или результат перемножения, чтобы\n",
        "получилось число состоящее из одной цифры.\n",
        "Например, для входного числа:\n",
        "· 39 функция должна вернуть 3, так как 3*9=27 => 2*7=14 => 1*4=4\n",
        "· 4 функция должна вернуть 0, так как число уже состоит из одной цифры\n",
        "· 999 функция должна вернуть 4, так как 9*9*9=729 => 7*2*9=126 => 1*2*6=12 =>\n",
        "1*2=2. Написать тесты для кода"
      ]
    },
    {
      "cell_type": "code",
      "execution_count": null,
      "metadata": {
        "id": "BH1A_Mgi6i4G"
      },
      "outputs": [],
      "source": [
        "def multiply_digits(num):\n",
        "    def multiply(num):\n",
        "        result = 1\n",
        "        for digit in str(num):\n",
        "            result *= int(digit)\n",
        "        return result\n",
        "\n",
        "    count = 0\n",
        "    while num >= 10:\n",
        "        num = multiply(num)\n",
        "        count += 1\n",
        "    return count\n",
        "\n",
        "# Тесты\n",
        "def test_multiply_digits():\n",
        "    assert multiply_digits(39) == 3\n",
        "    assert multiply_digits(4) == 0\n",
        "    assert multiply_digits(999) == 4\n",
        "    assert multiply_digits(123) == 1\n",
        "    assert multiply_digits(1234) == 2\n",
        "\n",
        "test_multiply_digits()\n"
      ]
    },
    {
      "cell_type": "markdown",
      "metadata": {
        "id": "0nS-kIa8g8vd"
      },
      "source": [
        "# Задача 5\n",
        "Написать функцию, которая принимает два целочисленных вектора одинаковой длины и\n",
        "возвращает среднеквадратическое отклонение двух векторов. Написать тесты для кода"
      ]
    },
    {
      "cell_type": "code",
      "execution_count": null,
      "metadata": {
        "id": "8iphx4LM6xbx"
      },
      "outputs": [],
      "source": [
        "import math\n",
        "\n",
        "def calculate_rmse(vector1, vector2):\n",
        "    if len(vector1) != len(vector2):\n",
        "        raise ValueError(\"Векторы должны быть одинаковой длины\")\n",
        "    \n",
        "    n = len(vector1)\n",
        "    sum_of_squares = sum((v1 - v2) ** 2 for v1, v2 in zip(vector1, vector2))\n",
        "    rmse = math.sqrt(sum_of_squares / n)\n",
        "    \n",
        "    return rmse\n",
        "\n",
        "# Тесты\n",
        "def test_calculate_rmse():\n",
        "    assert calculate_rmse([1, 2, 3], [4, 5, 6]) == math.sqrt(9)\n",
        "    assert calculate_rmse([0, 0, 0], [0, 0, 0]) == 0\n",
        "    assert calculate_rmse([1, 1, 1], [1, 1, 1]) == 0\n",
        "    assert calculate_rmse([1, 2, 3], [1, 2, 3]) == 0\n",
        "    assert calculate_rmse([-1, -2, -3], [1, 2, 3]) == math.sqrt(56)\n",
        "    \n",
        "test_calculate_rmse()\n"
      ]
    },
    {
      "cell_type": "markdown",
      "metadata": {
        "id": "vpIPKL439zkw"
      },
      "source": [
        "# Задача 6\n",
        "Написать функцию, принимающая целое положительное число. Функция должна вернуть\n",
        "строку вида “(n1**p1)(n2**p2)…(nk**pk)” представляющая разложение числа на простые\n",
        "множители (если pi == 1, то выводить только ni).\n",
        "Например, для числа 86240 функция должна вернуть “(2**5)(5)(7**2)(11)”. Написать тесты для кода"
      ]
    },
    {
      "cell_type": "code",
      "execution_count": null,
      "metadata": {
        "id": "pFebmcZk94Jw"
      },
      "outputs": [],
      "source": [
        "# Your code goes here\n",
        "def prime_factors(num):\n",
        "    result = \"\"\n",
        "    prime = 2\n",
        "    \n",
        "    while prime * prime <= num:\n",
        "        count = 0\n",
        "        while num % prime == 0:\n",
        "            num //= prime\n",
        "            count += 1\n",
        "        if count > 0:\n",
        "            if count == 1:\n",
        "                result += f\"({prime})\"\n",
        "            else:\n",
        "                result += f\"({prime}**{count})\"\n",
        "        prime += 1\n",
        "    \n",
        "    if num > 1:\n",
        "        result += f\"({num})\"\n",
        "    \n",
        "    return result\n",
        "\n",
        "# Тесты\n",
        "def test_prime_factors():\n",
        "    assert prime_factors(1) == \"\"\n",
        "    assert prime_factors(2) == \"(2)\"\n",
        "    assert prime_factors(20) == \"(2**2)(5)\"\n",
        "    assert prime_factors(86240) == \"(2**5)(5)(7**2)(11)\"\n",
        "    assert prime_factors(343) == \"(7**3)\"\n",
        "    \n",
        "test_prime_factors()\n"
      ]
    },
    {
      "cell_type": "markdown",
      "metadata": {
        "id": "ps2s0BudX7A2"
      },
      "source": [
        "# Задача 7\n",
        "Написать функцию, принимающая целое число n, задающее количество кубиков. Функция\n",
        "должна определить, можно ли из данного кол-ва кубиков построить пирамиду, то есть\n",
        "можно ли представить число n как 1^2+2^2+3^2+…+k^2. Если можно, то функция должна\n",
        "вернуть k, иначе строку “It is impossible”. Написать тесты для кода"
      ]
    },
    {
      "cell_type": "code",
      "execution_count": null,
      "metadata": {
        "id": "3YPjEXxhX_YT"
      },
      "outputs": [],
      "source": [
        "def build_pyramid(n):\n",
        "    sum_of_squares = 0\n",
        "    k = 1\n",
        "    \n",
        "    while sum_of_squares < n:\n",
        "        sum_of_squares += k**2\n",
        "        k += 1\n",
        "    \n",
        "    if sum_of_squares == n:\n",
        "        return k - 1\n",
        "    else:\n",
        "        return \"It is impossible\"\n",
        "\n",
        "# Тесты\n",
        "def test_build_pyramid():\n",
        "    assert build_pyramid(0) == 0\n",
        "    assert build_pyramid(1) == 1\n",
        "    assert build_pyramid(5) == \"It is impossible\"\n",
        "    assert build_pyramid(14) == 3\n",
        "    assert build_pyramid(12) == \"It is impossible\"\n",
        "    \n",
        "test_build_pyramid()\n"
      ]
    },
    {
      "cell_type": "markdown",
      "metadata": {
        "id": "KeKgmIdAQMEJ"
      },
      "source": [
        "# Задача 8\n",
        "Функция принимает на вход положительное число и определяет является ли оно сбалансированным, т.е. сумма цифр до средних равна сумме цифр после. Средними в случае нечетного числа цифр считать одну цифру, в случае четного - две средних. Написать тесты для кода"
      ]
    },
    {
      "cell_type": "code",
      "execution_count": null,
      "metadata": {
        "id": "gMAAqtqlQrZt"
      },
      "outputs": [],
      "source": [
        "# Your code goes here\n",
        "def is_balanced(num):\n",
        "    str_num = str(num)\n",
        "    length = len(str_num)\n",
        "    \n",
        "    if length == 1:\n",
        "        return True\n",
        "    \n",
        "    mid = length // 2\n",
        "    left_sum = sum([int(digit) for digit in str_num[:mid]])\n",
        "    \n",
        "    if length % 2 == 0:\n",
        "        right_sum = sum([int(digit) for digit in str_num[mid:]])\n",
        "    else:\n",
        "        right_sum = sum([int(digit) for digit in str_num[mid+1:]])\n",
        "    \n",
        "    return left_sum == right_sum\n",
        "\n",
        "# Тесты\n",
        "def test_is_balanced():\n",
        "    assert is_balanced(1) == True\n",
        "    assert is_balanced(12321) == True\n",
        "    assert is_balanced(12345) == False\n",
        "    assert is_balanced(123456) == False\n",
        "    assert is_balanced(123454321) == True\n",
        "    \n",
        "test_is_balanced()\n"
      ]
    }
  ],
  "metadata": {
    "colab": {
      "provenance": []
    },
    "kernelspec": {
      "display_name": "Python 3",
      "name": "python3"
    },
    "language_info": {
      "name": "python"
    }
  },
  "nbformat": 4,
  "nbformat_minor": 0
}
